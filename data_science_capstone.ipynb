{
 "cells": [
  {
   "cell_type": "markdown",
   "metadata": {},
   "source": [
    "# Data Science Capstone\n",
    "This notebook will be mainly used for the capstone project."
   ]
  },
  {
   "cell_type": "markdown",
   "metadata": {},
   "source": [
    "## Import libraries"
   ]
  },
  {
   "cell_type": "code",
   "execution_count": 1,
   "metadata": {
    "collapsed": true
   },
   "outputs": [],
   "source": [
    "import numpy as np\n",
    "\n",
    "import pandas as pd\n",
    "\n",
    "from itertools import chain \n",
    "\n",
    "import json\n",
    "\n",
    "import io\n",
    "\n",
    "# !conda install -c conda-forge geopy --yes\n",
    "from geopy.geocoders import Nominatim # convert an address into latitude and longitude values\n",
    "\n",
    "import requests # library to handle requests\n",
    "from pandas.io.json import json_normalize # tranform JSON file into a pandas dataframe\n",
    "\n",
    "# Matplotlib and associated plotting modules\n",
    "import matplotlib.cm as cm\n",
    "import matplotlib.colors as colors\n",
    "\n",
    "# import k-means from clustering stage\n",
    "from sklearn.cluster import KMeans\n",
    "\n",
    "#!conda install -c conda-forge folium=0.5.0 --yes\n",
    "import folium # map rendering library"
   ]
  },
  {
   "cell_type": "code",
   "execution_count": 2,
   "metadata": {
    "collapsed": true,
    "slideshow": {
     "slide_type": "-"
    },
    "tags": [
     "remove_cell"
    ]
   },
   "outputs": [],
   "source": [
    "# @hidden_cell\n",
    "foursquare_clientid = \"S0N1Q51LLQJU3PBFLDSQHBV2IXDOPL3NTGEUTK02CZ013YKP\"\n",
    "foursquare_clientsecret = \"O0H5N2BDLKS3QDO0KQDOBMNI1WFMA4TNTMU4WVHXKW5DO1PA\"\n",
    "version = \"20200707\"\n",
    "foursquare_api_str = \"https://api.foursquare.com/v2/%s/%s?client_id={}&client_secret={}&v={}\".format(\n",
    "    foursquare_clientid, foursquare_clientsecret, version\n",
    ")"
   ]
  },
  {
   "cell_type": "markdown",
   "metadata": {
    "collapsed": true
   },
   "source": [
    "## Import Toroto neighbourhood data\n",
    "\n",
    "Import data from Wikipadia, the dataframe will consist of three columns: PostalCode, Borough, and Neighborhood. Add the geographic data.\n",
    "\n",
    "**Data Cleansing**\n",
    "\n",
    "Only the datapoints with a no \"Not assigned\" borough will be cosindered during the analysis. If a datapoint has a borough but a \"Not assigned\" neighborhood, then the neighborhood will be the same as the borough."
   ]
  },
  {
   "cell_type": "code",
   "execution_count": 27,
   "metadata": {},
   "outputs": [
    {
     "name": "stdout",
     "output_type": "stream",
     "text": [
      "df_toronto.shape:  (103, 5)\n",
      "  Postal Code           Borough                                 Neighborhood  \\\n",
      "0         M3A        North York                                    Parkwoods   \n",
      "1         M4A        North York                             Victoria Village   \n",
      "2         M5A  Downtown Toronto                    Regent Park, Harbourfront   \n",
      "3         M6A        North York             Lawrence Manor, Lawrence Heights   \n",
      "4         M7A  Downtown Toronto  Queen's Park, Ontario Provincial Government   \n",
      "\n",
      "    Latitude  Longitude  \n",
      "0  43.753259 -79.329656  \n",
      "1  43.725882 -79.315572  \n",
      "2  43.654260 -79.360636  \n",
      "3  43.718518 -79.464763  \n",
      "4  43.662301 -79.389494  \n"
     ]
    }
   ],
   "source": [
    "# neighbourhood data\n",
    "df_neighborhood = pd.read_html('https://en.wikipedia.org/wiki/List_of_postal_codes_of_Canada:_M', header=0)[0]\n",
    "df_neighborhood = df_neighborhood[df_neighborhood['Borough'] != 'Not assigned']\n",
    "not_neighborhood_idx = df_neighborhood['Neighborhood'] == 'Not assigned'\n",
    "df_neighborhood['Neighborhood'][not_neighborhood_idx] = df_neighborhood['Borough'][not_neighborhood_idx]\n",
    "\n",
    "# # split neiborhood\n",
    "# def chainer(s):\n",
    "#     return list(chain.from_iterable(s.str.split(',')))\n",
    "# lens = df_neighborhood['Neighborhood'].str.split(',').map(len)\n",
    "# df_neighborhood = pd.DataFrame(\n",
    "#     {'Postal Code': np.repeat(df_neighborhood['Postal Code'], lens),\n",
    "#      'Borough': np.repeat(df_neighborhood['Borough'], lens),\n",
    "#      'Neighborhood': chainer(df_neighborhood['Neighborhood'])}\n",
    "# )\n",
    "\n",
    "# geographic data\n",
    "geo_url = requests.get('https://cocl.us/Geospatial_data').text\n",
    "df_lat_long = pd.read_csv(io.StringIO(geo_url))\n",
    "\n",
    "# merge neighbourhood data and geographic data\n",
    "df_toronto = pd.merge(df_neighborhood, df_lat_long, on='Postal Code')\n",
    "print('df_toronto.shape: ', df_toronto.shape)\n",
    "print(df_toronto.head())"
   ]
  },
  {
   "cell_type": "code",
   "execution_count": null,
   "metadata": {
    "collapsed": true
   },
   "outputs": [],
   "source": []
  }
 ],
 "metadata": {
  "kernelspec": {
   "display_name": "Python 3",
   "language": "python",
   "name": "python3"
  },
  "language_info": {
   "codemirror_mode": {
    "name": "ipython",
    "version": 3
   },
   "file_extension": ".py",
   "mimetype": "text/x-python",
   "name": "python",
   "nbconvert_exporter": "python",
   "pygments_lexer": "ipython3",
   "version": "3.6.3"
  }
 },
 "nbformat": 4,
 "nbformat_minor": 2
}
