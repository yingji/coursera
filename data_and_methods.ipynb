{
 "cells": [
  {
   "cell_type": "markdown",
   "metadata": {},
   "source": [
    "# Data & Methods\n",
    "\n",
    "First of all, New York and Toronto are compared with each other in terms of cultural diversity and the percentage of the public green space. the following data will be used:\n",
    "\n",
    "- [New York ethnic diversity](https://en.wikipedia.org/wiki/Demographics_of_New_York_City#Diversity_of_New_York_City's_boroughs) for the data of New York diversity\n",
    "\n",
    "- [Toronto ethinic diversity](https://en.m.wikipedia.org/wiki/Demographics_of_Toronto#Ethnic_diversity) for the data of Toronto ethic diversity\n",
    "\n",
    "- [Cities green parks](http://www.worldcitiescultureforum.com/data/of-public-green-space-parks-and-gardens) for the data of the percentage of green parks in different cities\n",
    "\n",
    "Once the city has been chosen, the next step will be selecting the a neighborhood which can provide a healthy lifestyle. For this purpose the selected city's neiborhood data ([New York neighborhoods](https://cocl.us/new_york_dataset) or [Toronto neiborhood](ttps://en.wikipedia.org/wiki/List_of_postal_codes_of_Canada:_M), depending on the selected city) will be combined with data from Foursquare’s explore API with a focus on venues such as coffee and pub (for social interation and afterwork events) and fitness facilities.\n",
    "\n",
    "N.B. Fitness facility can also provide a great testing environment for **eHeart** device and algorithms."
   ]
  },
  {
   "cell_type": "code",
   "execution_count": null,
   "metadata": {
    "collapsed": true
   },
   "outputs": [],
   "source": []
  }
 ],
 "metadata": {
  "kernelspec": {
   "display_name": "Python 3",
   "language": "python",
   "name": "python3"
  },
  "language_info": {
   "codemirror_mode": {
    "name": "ipython",
    "version": 3
   },
   "file_extension": ".py",
   "mimetype": "text/x-python",
   "name": "python",
   "nbconvert_exporter": "python",
   "pygments_lexer": "ipython3",
   "version": "3.6.3"
  }
 },
 "nbformat": 4,
 "nbformat_minor": 2
}
