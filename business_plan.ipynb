{
 "cells": [
  {
   "cell_type": "markdown",
   "metadata": {},
   "source": [
    "# Business Plan\n",
    "\n",
    "**eHeart**, a (hypothetical) wearable device company has recently decided to expand its market from Europe to North America with the a new office in either New York or Toronto.\n",
    "\n",
    "Because of the dversity of employees, **eHeart** aims to select a city which reflects the company's multi-ethiìnicity and diversity in cultural background. Moreover, being a company developing wearable device and aiming to improve the quality of the life, the new office should provide a healthy environment for the employees."
   ]
  },
  {
   "cell_type": "code",
   "execution_count": null,
   "metadata": {
    "collapsed": true
   },
   "outputs": [],
   "source": []
  }
 ],
 "metadata": {
  "kernelspec": {
   "display_name": "Python 3",
   "language": "python",
   "name": "python3"
  },
  "language_info": {
   "codemirror_mode": {
    "name": "ipython",
    "version": 3
   },
   "file_extension": ".py",
   "mimetype": "text/x-python",
   "name": "python",
   "nbconvert_exporter": "python",
   "pygments_lexer": "ipython3",
   "version": "3.6.3"
  }
 },
 "nbformat": 4,
 "nbformat_minor": 2
}
